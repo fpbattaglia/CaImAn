{
 "cells": [
  {
   "cell_type": "code",
   "execution_count": 1,
   "metadata": {},
   "outputs": [
    {
     "name": "stderr",
     "output_type": "stream",
     "text": [
      "/home/fbattaglia/anaconda3/envs/caiman/lib/python3.6/site-packages/h5py/__init__.py:36: FutureWarning: Conversion of the second argument of issubdtype from `float` to `np.floating` is deprecated. In future, it will be treated as `np.float64 == np.dtype(float).type`.\n",
      "  from ._conv import register_converters as _register_converters\n"
     ]
    }
   ],
   "source": [
    "import glob\n",
    "import caiman as cm"
   ]
  },
  {
   "cell_type": "code",
   "execution_count": 2,
   "metadata": {},
   "outputs": [],
   "source": [
    "import os"
   ]
  },
  {
   "cell_type": "code",
   "execution_count": 3,
   "metadata": {},
   "outputs": [],
   "source": [
    "rec_prefix = 'recording_20170710'\n",
    "c_bottom, c_top, c_left, c_right = 0, 140, 0, 120"
   ]
  },
  {
   "cell_type": "code",
   "execution_count": 4,
   "metadata": {},
   "outputs": [
    {
     "name": "stdout",
     "output_type": "stream",
     "text": [
      "/home/fbattaglia/Data/20170710_120637\n"
     ]
    }
   ],
   "source": [
    "cd /home/fbattaglia/Data/20170710_120637/"
   ]
  },
  {
   "cell_type": "code",
   "execution_count": 5,
   "metadata": {},
   "outputs": [],
   "source": [
    "files = glob.glob(rec_prefix + '???????.tif')\n",
    "fstub = []\n",
    "for f in files:\n",
    "    fstub.append((f, f[:-4] + '-000.tif'))"
   ]
  },
  {
   "cell_type": "code",
   "execution_count": 6,
   "metadata": {},
   "outputs": [],
   "source": [
    "for f_old, f_new in fstub:\n",
    "    os.rename(f_old, f_new)"
   ]
  },
  {
   "cell_type": "code",
   "execution_count": 7,
   "metadata": {},
   "outputs": [],
   "source": [
    "files = glob.glob(rec_prefix + '*.tif')\n",
    "files.sort()"
   ]
  },
  {
   "cell_type": "code",
   "execution_count": 8,
   "metadata": {},
   "outputs": [
    {
     "data": {
      "text/plain": [
       "['recording_20170710_124905-000.tif',\n",
       " 'recording_20170710_124905-001.tif',\n",
       " 'recording_20170710_124905-002.tif',\n",
       " 'recording_20170710_124905-003.tif',\n",
       " 'recording_20170710_124905-004.tif',\n",
       " 'recording_20170710_125514-000.tif',\n",
       " 'recording_20170710_125514-001.tif',\n",
       " 'recording_20170710_125514-002.tif',\n",
       " 'recording_20170710_125514-003.tif',\n",
       " 'recording_20170710_125514-004.tif',\n",
       " 'recording_20170710_130249-000.tif',\n",
       " 'recording_20170710_130249-001.tif',\n",
       " 'recording_20170710_130249-002.tif',\n",
       " 'recording_20170710_130249-003.tif',\n",
       " 'recording_20170710_130249-004.tif',\n",
       " 'recording_20170710_130852-000.tif',\n",
       " 'recording_20170710_130852-001.tif',\n",
       " 'recording_20170710_130852-002.tif',\n",
       " 'recording_20170710_130852-003.tif',\n",
       " 'recording_20170710_130852-004.tif']"
      ]
     },
     "execution_count": 8,
     "metadata": {},
     "output_type": "execute_result"
    }
   ],
   "source": [
    "files"
   ]
  },
  {
   "cell_type": "code",
   "execution_count": 9,
   "metadata": {},
   "outputs": [],
   "source": [
    "for f in files:\n",
    "    if not os.path.exists(f):\n",
    "        raise ValueError('no file {}'.format(f))"
   ]
  },
  {
   "cell_type": "code",
   "execution_count": 10,
   "metadata": {},
   "outputs": [
    {
     "name": "stderr",
     "output_type": "stream",
     "text": [
      "100%|██████████| 1/1 [00:35<00:00, 35.81s/it]\n"
     ]
    },
    {
     "name": "stdout",
     "output_type": "stream",
     "text": [
      "reshaping along x and y\n",
      "(720, 540)\n",
      "reshaping along z\n",
      ".tif\n",
      "tifffile package not found, using skimage instead for imsave\n"
     ]
    },
    {
     "name": "stderr",
     "output_type": "stream",
     "text": [
      "100%|██████████| 1/1 [00:39<00:00, 39.22s/it]\n"
     ]
    },
    {
     "name": "stdout",
     "output_type": "stream",
     "text": [
      "reshaping along x and y\n",
      "(720, 540)\n",
      "reshaping along z\n",
      ".tif\n",
      "tifffile package not found, using skimage instead for imsave\n"
     ]
    },
    {
     "name": "stderr",
     "output_type": "stream",
     "text": [
      "100%|██████████| 1/1 [00:41<00:00, 41.55s/it]\n"
     ]
    },
    {
     "name": "stdout",
     "output_type": "stream",
     "text": [
      "reshaping along x and y\n",
      "(720, 540)\n",
      "reshaping along z\n",
      ".tif\n",
      "tifffile package not found, using skimage instead for imsave\n"
     ]
    },
    {
     "name": "stderr",
     "output_type": "stream",
     "text": [
      "100%|██████████| 1/1 [00:41<00:00, 41.02s/it]\n"
     ]
    },
    {
     "name": "stdout",
     "output_type": "stream",
     "text": [
      "reshaping along x and y\n",
      "(720, 540)\n",
      "reshaping along z\n",
      ".tif\n",
      "tifffile package not found, using skimage instead for imsave\n"
     ]
    },
    {
     "name": "stderr",
     "output_type": "stream",
     "text": [
      "100%|██████████| 1/1 [00:34<00:00, 34.09s/it]\n"
     ]
    },
    {
     "name": "stdout",
     "output_type": "stream",
     "text": [
      "reshaping along x and y\n",
      "(720, 540)\n",
      "reshaping along z\n",
      ".tif\n",
      "tifffile package not found, using skimage instead for imsave\n"
     ]
    },
    {
     "name": "stderr",
     "output_type": "stream",
     "text": [
      "100%|██████████| 1/1 [00:40<00:00, 40.95s/it]\n"
     ]
    },
    {
     "name": "stdout",
     "output_type": "stream",
     "text": [
      "reshaping along x and y\n",
      "(720, 540)\n",
      "reshaping along z\n",
      ".tif\n",
      "tifffile package not found, using skimage instead for imsave\n"
     ]
    },
    {
     "name": "stderr",
     "output_type": "stream",
     "text": [
      "100%|██████████| 1/1 [00:37<00:00, 37.63s/it]\n"
     ]
    },
    {
     "name": "stdout",
     "output_type": "stream",
     "text": [
      "reshaping along x and y\n",
      "(720, 540)\n",
      "reshaping along z\n",
      ".tif\n",
      "tifffile package not found, using skimage instead for imsave\n"
     ]
    },
    {
     "name": "stderr",
     "output_type": "stream",
     "text": [
      "100%|██████████| 1/1 [00:40<00:00, 40.92s/it]\n"
     ]
    },
    {
     "name": "stdout",
     "output_type": "stream",
     "text": [
      "reshaping along x and y\n",
      "(720, 540)\n",
      "reshaping along z\n",
      ".tif\n",
      "tifffile package not found, using skimage instead for imsave\n"
     ]
    },
    {
     "name": "stderr",
     "output_type": "stream",
     "text": [
      "100%|██████████| 1/1 [00:38<00:00, 38.04s/it]\n"
     ]
    },
    {
     "name": "stdout",
     "output_type": "stream",
     "text": [
      "reshaping along x and y\n",
      "(720, 540)\n",
      "reshaping along z\n",
      ".tif\n",
      "tifffile package not found, using skimage instead for imsave\n"
     ]
    },
    {
     "name": "stderr",
     "output_type": "stream",
     "text": [
      "100%|██████████| 1/1 [00:25<00:00, 25.05s/it]\n"
     ]
    },
    {
     "name": "stdout",
     "output_type": "stream",
     "text": [
      "reshaping along x and y\n",
      "(720, 540)\n",
      "reshaping along z\n",
      ".tif\n",
      "tifffile package not found, using skimage instead for imsave\n"
     ]
    },
    {
     "name": "stderr",
     "output_type": "stream",
     "text": [
      "100%|██████████| 1/1 [00:45<00:00, 45.82s/it]\n"
     ]
    },
    {
     "name": "stdout",
     "output_type": "stream",
     "text": [
      "reshaping along x and y\n",
      "(720, 540)\n",
      "reshaping along z\n",
      ".tif\n",
      "tifffile package not found, using skimage instead for imsave\n"
     ]
    },
    {
     "name": "stderr",
     "output_type": "stream",
     "text": [
      "100%|██████████| 1/1 [00:41<00:00, 41.86s/it]\n"
     ]
    },
    {
     "name": "stdout",
     "output_type": "stream",
     "text": [
      "reshaping along x and y\n",
      "(720, 540)\n",
      "reshaping along z\n",
      ".tif\n",
      "tifffile package not found, using skimage instead for imsave\n"
     ]
    },
    {
     "name": "stderr",
     "output_type": "stream",
     "text": [
      "100%|██████████| 1/1 [00:38<00:00, 38.36s/it]\n"
     ]
    },
    {
     "name": "stdout",
     "output_type": "stream",
     "text": [
      "reshaping along x and y\n",
      "(720, 540)\n",
      "reshaping along z\n",
      ".tif\n",
      "tifffile package not found, using skimage instead for imsave\n"
     ]
    },
    {
     "name": "stderr",
     "output_type": "stream",
     "text": [
      "100%|██████████| 1/1 [00:38<00:00, 38.90s/it]\n"
     ]
    },
    {
     "name": "stdout",
     "output_type": "stream",
     "text": [
      "reshaping along x and y\n",
      "(720, 540)\n",
      "reshaping along z\n",
      ".tif\n",
      "tifffile package not found, using skimage instead for imsave\n"
     ]
    },
    {
     "name": "stderr",
     "output_type": "stream",
     "text": [
      "100%|██████████| 1/1 [00:30<00:00, 30.94s/it]\n"
     ]
    },
    {
     "name": "stdout",
     "output_type": "stream",
     "text": [
      "reshaping along x and y\n",
      "(720, 540)\n",
      "reshaping along z\n",
      ".tif\n",
      "tifffile package not found, using skimage instead for imsave\n"
     ]
    },
    {
     "name": "stderr",
     "output_type": "stream",
     "text": [
      "100%|██████████| 1/1 [00:40<00:00, 40.56s/it]\n"
     ]
    },
    {
     "name": "stdout",
     "output_type": "stream",
     "text": [
      "reshaping along x and y\n",
      "(720, 540)\n",
      "reshaping along z\n",
      ".tif\n",
      "tifffile package not found, using skimage instead for imsave\n"
     ]
    },
    {
     "name": "stderr",
     "output_type": "stream",
     "text": [
      "100%|██████████| 1/1 [00:42<00:00, 42.66s/it]\n"
     ]
    },
    {
     "name": "stdout",
     "output_type": "stream",
     "text": [
      "reshaping along x and y\n",
      "(720, 540)\n",
      "reshaping along z\n",
      ".tif\n",
      "tifffile package not found, using skimage instead for imsave\n"
     ]
    },
    {
     "name": "stderr",
     "output_type": "stream",
     "text": [
      "100%|██████████| 1/1 [00:42<00:00, 42.03s/it]\n"
     ]
    },
    {
     "name": "stdout",
     "output_type": "stream",
     "text": [
      "reshaping along x and y\n",
      "(720, 540)\n",
      "reshaping along z\n",
      ".tif\n",
      "tifffile package not found, using skimage instead for imsave\n"
     ]
    },
    {
     "name": "stderr",
     "output_type": "stream",
     "text": [
      "100%|██████████| 1/1 [00:54<00:00, 54.90s/it]\n"
     ]
    },
    {
     "name": "stdout",
     "output_type": "stream",
     "text": [
      "reshaping along x and y\n",
      "(720, 540)\n",
      "reshaping along z\n",
      ".tif\n",
      "tifffile package not found, using skimage instead for imsave\n"
     ]
    },
    {
     "name": "stderr",
     "output_type": "stream",
     "text": [
      "100%|██████████| 1/1 [00:20<00:00, 20.86s/it]\n"
     ]
    },
    {
     "name": "stdout",
     "output_type": "stream",
     "text": [
      "reshaping along x and y\n",
      "(720, 540)\n",
      "reshaping along z\n",
      ".tif\n",
      "tifffile package not found, using skimage instead for imsave\n"
     ]
    }
   ],
   "source": [
    "for f in files:\n",
    "    m_orig = cm.load_movie_chain([f])\n",
    "    m_ds = m_orig.resize(0.5, 0.5, 0.5)\n",
    "    m_crop = m_ds.crop(c_bottom, c_top, c_left, c_right)\n",
    "    m_crop.save('ds_' + f)"
   ]
  },
  {
   "cell_type": "code",
   "execution_count": null,
   "metadata": {},
   "outputs": [],
   "source": []
  },
  {
   "cell_type": "code",
   "execution_count": null,
   "metadata": {},
   "outputs": [],
   "source": []
  }
 ],
 "metadata": {
  "kernelspec": {
   "display_name": "Python 3",
   "language": "python",
   "name": "python3"
  },
  "language_info": {
   "codemirror_mode": {
    "name": "ipython",
    "version": 3
   },
   "file_extension": ".py",
   "mimetype": "text/x-python",
   "name": "python",
   "nbconvert_exporter": "python",
   "pygments_lexer": "ipython3",
   "version": "3.6.4"
  }
 },
 "nbformat": 4,
 "nbformat_minor": 2
}
