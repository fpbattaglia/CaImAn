{
 "cells": [
  {
   "cell_type": "code",
   "execution_count": 1,
   "metadata": {
    "scrolled": true
   },
   "outputs": [
    {
     "name": "stderr",
     "output_type": "stream",
     "text": [
      "/scratch/code/anaconda3/envs/caiman/lib/python3.6/site-packages/h5py/__init__.py:36: FutureWarning: Conversion of the second argument of issubdtype from `float` to `np.floating` is deprecated. In future, it will be treated as `np.float64 == np.dtype(float).type`.\n",
      "  from ._conv import register_converters as _register_converters\n"
     ]
    }
   ],
   "source": [
    "from __future__ import division\n",
    "from __future__ import print_function\n",
    "from builtins import zip\n",
    "from builtins import str\n",
    "from builtins import map\n",
    "from builtins import range\n",
    "from past.utils import old_div\n",
    "import cv2\n",
    "try:\n",
    "    cv2.setNumThreads(1)\n",
    "except:\n",
    "    print('Open CV is naturally single threaded')\n",
    "\n",
    "try:\n",
    "    if __IPYTHON__:\n",
    "        get_ipython().magic('load_ext autoreload')\n",
    "        get_ipython().magic('autoreload 2')\n",
    "except NameError:\n",
    "    print('Not IPYTHON')\n",
    "    pass\n",
    "\n",
    "import caiman as cm\n",
    "import numpy as np\n",
    "import os\n",
    "import glob\n",
    "import time\n",
    "import matplotlib.pyplot as plt\n",
    "import psutil\n",
    "import sys\n",
    "from ipyparallel import Client\n",
    "from skimage.external.tifffile import TiffFile\n",
    "import scipy\n",
    "import pandas\n"
   ]
  },
  {
   "cell_type": "code",
   "execution_count": 5,
   "metadata": {},
   "outputs": [],
   "source": [
    "processed = {}\n",
    "coords = {}\n",
    "base = '/scratch/data/downsampled/'\n",
    "weekdict= {}\n",
    "iso_mon = '201707'\n",
    "for i,n in enumerate([10,17,24]):\n",
    "    for j in range(5):\n",
    "        weekdict[iso_mon+str(n+j)]=i+1"
   ]
  },
  {
   "cell_type": "code",
   "execution_count": 6,
   "metadata": {},
   "outputs": [
    {
     "name": "stdout",
     "output_type": "stream",
     "text": [
      "/scratch/data/downsampled/32364\n",
      "32364 1 32364_trial_20170711_150921-001.tif\n",
      "32364 3 32364_rest_20170726_121611-001.tif\n",
      "/scratch/data/downsampled/32366\n",
      "32366 3 32366_trial_20170728_104231-001.tif\n",
      "32366 2 32366_rest_20170718_140021-001.tif\n"
     ]
    }
   ],
   "source": [
    "for i, mouse in enumerate(os.listdir(base)):\n",
    "    mouse_dir = os.path.join(base,mouse)\n",
    "    print(mouse_dir)\n",
    "    if not mouse in processed.keys():\n",
    "        processed[mouse]={}\n",
    "    for j,date in enumerate(os.listdir(mouse_dir)):\n",
    "        date_dir = os.path.join(mouse_dir,date)\n",
    "        if not weekdict[date] in processed[mouse].keys():\n",
    "            for k, file in enumerate(os.listdir(date_dir)):\n",
    "                if file.split('-')[-1][0:3]=='001':\n",
    "                    print(mouse,weekdict[date],file)\n",
    "                    processed[mouse][weekdict[date]]=os.path.join(date_dir,file)\n",
    "                    \n",
    "                    break\n",
    "\n",
    "croppts = processed.copy()"
   ]
  },
  {
   "cell_type": "code",
   "execution_count": 16,
   "metadata": {},
   "outputs": [
    {
     "name": "stdout",
     "output_type": "stream",
     "text": [
      "home/sebastian/Documents/32364_trial_20170711_150921-001.tif\n",
      "home/sebastian/Documents/32364_rest_20170726_121611-001.tif\n",
      "home/sebastian/Documents/32366_trial_20170728_104231-001.tif\n",
      "home/sebastian/Documents/32366_rest_20170718_140021-001.tif\n"
     ]
    }
   ],
   "source": [
    "size = []\n",
    "\n",
    "for mouse in processed.keys():\n",
    "    for week in (processed[mouse]):\n",
    "        file = os.path.join('home/sebastian/Documents',processed[mouse][week][41:])\n",
    "        print(file)\n",
    "        mov = cm.load(file)\n",
    "        mov1 = mov.interactive_crop()\n",
    "        break"
   ]
  },
  {
   "cell_type": "code",
   "execution_count": null,
   "metadata": {},
   "outputs": [],
   "source": []
  },
  {
   "cell_type": "code",
   "execution_count": 4,
   "metadata": {},
   "outputs": [
    {
     "name": "stdout",
     "output_type": "stream",
     "text": [
      "mv: missing file operand\r\n",
      "Try 'mv --help' for more information.\r\n"
     ]
    }
   ],
   "source": [
    "mv"
   ]
  },
  {
   "cell_type": "code",
   "execution_count": null,
   "metadata": {},
   "outputs": [],
   "source": []
  }
 ],
 "metadata": {
  "kernelspec": {
   "display_name": "Python 3",
   "language": "python",
   "name": "python3"
  },
  "language_info": {
   "codemirror_mode": {
    "name": "ipython",
    "version": 3
   },
   "file_extension": ".py",
   "mimetype": "text/x-python",
   "name": "python",
   "nbconvert_exporter": "python",
   "pygments_lexer": "ipython3",
   "version": "3.6.5"
  }
 },
 "nbformat": 4,
 "nbformat_minor": 2
}
